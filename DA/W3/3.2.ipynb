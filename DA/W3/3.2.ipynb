{
 "cells": [
  {
   "cell_type": "code",
   "execution_count": 1,
   "id": "0d9f6796",
   "metadata": {},
   "outputs": [
    {
     "name": "stdout",
     "output_type": "stream",
     "text": [
      "{'AL': 'Alabama', 'AK': 'Alaska', 'AZ': 'Arizona', 'AR': 'Arkansas', 'CA': 'California', 'CO': 'Coloroda', 'CT': 'Connecticut', 'DE': 'Delaware', 'FL': 'FLorida', 'GA': 'Georgia'}\n"
     ]
    }
   ],
   "source": [
    "states = {\"AL\" : \"Alabama\", \"AK\" : \"Alaska\",\"AZ\" : \"Arizona\",\"AR\" : \"Arkansas\",\"CA\" : \"California\",\"CO\" : \"Coloroda\",\"CT\" : \"Connecticut\", \"DE\" : \"Delaware\",\"FL\" : \"FLorida\",\"GA\" : \"Georgia\"}\n",
    "print(states)\n"
   ]
  },
  {
   "cell_type": "code",
   "execution_count": 5,
   "id": "22df649a",
   "metadata": {},
   "outputs": [
    {
     "name": "stdout",
     "output_type": "stream",
     "text": [
      "AL Alabama\n",
      "AK Alaska\n",
      "AZ Arizona\n",
      "AR Arkansas\n",
      "CA California\n",
      "CO Coloroda\n",
      "CT Connecticut\n",
      "DE Delaware\n",
      "FL FLorida\n",
      "GA Georgia\n"
     ]
    }
   ],
   "source": [
    "for key, value in states.items():\n",
    "    print(key + \" \"+ value)\n"
   ]
  },
  {
   "cell_type": "code",
   "execution_count": null,
   "id": "272b8222",
   "metadata": {},
   "outputs": [],
   "source": [
    "#Lucas Johnson"
   ]
  },
  {
   "cell_type": "code",
   "execution_count": null,
   "id": "f25ced79",
   "metadata": {},
   "outputs": [],
   "source": []
  },
  {
   "cell_type": "code",
   "execution_count": null,
   "id": "6189c6f9",
   "metadata": {},
   "outputs": [],
   "source": []
  }
 ],
 "metadata": {
  "kernelspec": {
   "display_name": "Python 3",
   "language": "python",
   "name": "python3"
  },
  "language_info": {
   "codemirror_mode": {
    "name": "ipython",
    "version": 3
   },
   "file_extension": ".py",
   "mimetype": "text/x-python",
   "name": "python",
   "nbconvert_exporter": "python",
   "pygments_lexer": "ipython3",
   "version": "3.8.8"
  }
 },
 "nbformat": 4,
 "nbformat_minor": 5
}
