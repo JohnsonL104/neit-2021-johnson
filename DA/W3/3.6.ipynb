{
 "cells": [
  {
   "cell_type": "code",
   "execution_count": 1,
   "id": "6a55a031",
   "metadata": {},
   "outputs": [],
   "source": [
    "import xlrd"
   ]
  },
  {
   "cell_type": "code",
   "execution_count": 2,
   "id": "6fe1f180",
   "metadata": {},
   "outputs": [],
   "source": [
    "loc = (\"./Students.xlsx\")"
   ]
  },
  {
   "cell_type": "code",
   "execution_count": 3,
   "id": "16a328b0",
   "metadata": {},
   "outputs": [],
   "source": [
    "wb = xlrd.open_workbook(loc)\n",
    "sheet = wb.sheet_by_index(0)"
   ]
  },
  {
   "cell_type": "code",
   "execution_count": 4,
   "id": "b12efcd1",
   "metadata": {},
   "outputs": [
    {
     "name": "stdout",
     "output_type": "stream",
     "text": [
      "NAME\n"
     ]
    }
   ],
   "source": [
    "print(sheet.cell_value(0, 0))"
   ]
  },
  {
   "cell_type": "code",
   "execution_count": 5,
   "id": "f8c3ec8a",
   "metadata": {},
   "outputs": [
    {
     "name": "stdout",
     "output_type": "stream",
     "text": [
      "4\n"
     ]
    }
   ],
   "source": [
    "print(sheet.nrows)"
   ]
  },
  {
   "cell_type": "code",
   "execution_count": 6,
   "id": "2ad34ee4",
   "metadata": {},
   "outputs": [
    {
     "name": "stdout",
     "output_type": "stream",
     "text": [
      "3\n"
     ]
    }
   ],
   "source": [
    "print(sheet.ncols)"
   ]
  },
  {
   "cell_type": "code",
   "execution_count": 8,
   "id": "3f2cad05",
   "metadata": {},
   "outputs": [
    {
     "name": "stdout",
     "output_type": "stream",
     "text": [
      "NAME\n",
      "SEMESTER\n",
      "ID\n"
     ]
    }
   ],
   "source": [
    "for i in range(sheet.ncols):\n",
    "    print(sheet.cell_value(0, i))"
   ]
  },
  {
   "cell_type": "code",
   "execution_count": 9,
   "id": "0f222c77",
   "metadata": {},
   "outputs": [
    {
     "name": "stdout",
     "output_type": "stream",
     "text": [
      "NAME\n",
      "ALEX\n",
      "CLAY\n",
      "JUSTIN\n"
     ]
    }
   ],
   "source": [
    "for i in range(sheet.nrows):\n",
    "    print(sheet.cell_value(i, 0))"
   ]
  },
  {
   "cell_type": "code",
   "execution_count": 10,
   "id": "8e755a58",
   "metadata": {},
   "outputs": [
    {
     "name": "stdout",
     "output_type": "stream",
     "text": [
      "['ALEX', 4.0, 2011272.0]\n"
     ]
    }
   ],
   "source": [
    "print(sheet.row_values(1))"
   ]
  },
  {
   "cell_type": "code",
   "execution_count": null,
   "id": "90c84e82",
   "metadata": {},
   "outputs": [],
   "source": [
    "#Lucas Johnson"
   ]
  }
 ],
 "metadata": {
  "kernelspec": {
   "display_name": "Python 3",
   "language": "python",
   "name": "python3"
  },
  "language_info": {
   "codemirror_mode": {
    "name": "ipython",
    "version": 3
   },
   "file_extension": ".py",
   "mimetype": "text/x-python",
   "name": "python",
   "nbconvert_exporter": "python",
   "pygments_lexer": "ipython3",
   "version": "3.8.8"
  }
 },
 "nbformat": 4,
 "nbformat_minor": 5
}
